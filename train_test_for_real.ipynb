{
 "cells": [
  {
   "cell_type": "code",
   "execution_count": 2,
   "metadata": {},
   "outputs": [],
   "source": [
    "import pickle\n",
    "import pandas as pd"
   ]
  },
  {
   "cell_type": "code",
   "execution_count": 15,
   "metadata": {},
   "outputs": [],
   "source": [
    "with open('data/predictor.p', 'rb') as file:\n",
    "    pred = pickle.load(file)"
   ]
  },
  {
   "cell_type": "code",
   "execution_count": 6,
   "metadata": {},
   "outputs": [],
   "source": [
    "with open('data/fires_df.p', 'rb') as file:\n",
    "    fires_df = pickle.load(file)"
   ]
  },
  {
   "cell_type": "code",
   "execution_count": 4,
   "metadata": {},
   "outputs": [],
   "source": [
    "target_date_index = {}"
   ]
  },
  {
   "cell_type": "code",
   "execution_count": 8,
   "metadata": {},
   "outputs": [],
   "source": [
    "start_date = pd.to_datetime('2003-01-01')"
   ]
  },
  {
   "cell_type": "code",
   "execution_count": 9,
   "metadata": {},
   "outputs": [],
   "source": [
    "for i, date in enumerate(fires_df['date']):\n",
    "    target_date_index[(date - start_date).days] = i\n",
    "    "
   ]
  },
  {
   "cell_type": "code",
   "execution_count": 10,
   "metadata": {},
   "outputs": [],
   "source": [
    "with open('train/target_date_index.p', 'wb') as file:\n",
    "     pickle.dump(target_date_index,file)"
   ]
  },
  {
   "cell_type": "code",
   "execution_count": 11,
   "metadata": {},
   "outputs": [],
   "source": [
    "a, b, c = 0,0,0\n",
    "start_date = pd.to_datetime('2003-01-01')"
   ]
  },
  {
   "cell_type": "code",
   "execution_count": 17,
   "metadata": {},
   "outputs": [],
   "source": [
    "target_matching_before2015 = pred[pred['status_date'].apply(lambda x: x.year < 2015)]"
   ]
  },
  {
   "cell_type": "code",
   "execution_count": 43,
   "metadata": {},
   "outputs": [
    {
     "data": {
      "text/plain": [
       "Timedelta('5113 days 00:00:00')"
      ]
     },
     "execution_count": 43,
     "metadata": {},
     "output_type": "execute_result"
    }
   ],
   "source": [
    "pd.to_datetime('2016-12-31') - start_date"
   ]
  },
  {
   "cell_type": "code",
   "execution_count": 12,
   "metadata": {},
   "outputs": [],
   "source": [
    "fires_df['year'] = fires_df['date'].apply(lambda x: x.year)"
   ]
  },
  {
   "cell_type": "code",
   "execution_count": 13,
   "metadata": {},
   "outputs": [
    {
     "ename": "NameError",
     "evalue": "name 'target_matching' is not defined",
     "output_type": "error",
     "traceback": [
      "\u001b[1;31m---------------------------------------------------------------------------\u001b[0m",
      "\u001b[1;31mNameError\u001b[0m                                 Traceback (most recent call last)",
      "\u001b[1;32m<ipython-input-13-aee2f5ba42d6>\u001b[0m in \u001b[0;36m<module>\u001b[1;34m\u001b[0m\n\u001b[1;32m----> 1\u001b[1;33m \u001b[0mtarget_matching\u001b[0m\u001b[1;33m[\u001b[0m\u001b[1;34m'year'\u001b[0m\u001b[1;33m]\u001b[0m \u001b[1;33m=\u001b[0m \u001b[0mtarget_matching\u001b[0m\u001b[1;33m[\u001b[0m\u001b[1;34m'status_date'\u001b[0m\u001b[1;33m]\u001b[0m\u001b[1;33m.\u001b[0m\u001b[0mapply\u001b[0m\u001b[1;33m(\u001b[0m\u001b[1;32mlambda\u001b[0m \u001b[0mx\u001b[0m\u001b[1;33m:\u001b[0m \u001b[0mx\u001b[0m\u001b[1;33m.\u001b[0m\u001b[0myear\u001b[0m\u001b[1;33m)\u001b[0m\u001b[1;33m\u001b[0m\u001b[1;33m\u001b[0m\u001b[0m\n\u001b[0m",
      "\u001b[1;31mNameError\u001b[0m: name 'target_matching' is not defined"
     ]
    }
   ],
   "source": [
    "target_matching['year'] = target_matching['status_date'].apply(lambda x: x.year)"
   ]
  },
  {
   "cell_type": "code",
   "execution_count": 19,
   "metadata": {},
   "outputs": [],
   "source": [
    "fires_df_before2015 = fires_df[fires_df['year'] < 2015]"
   ]
  },
  {
   "cell_type": "code",
   "execution_count": null,
   "metadata": {},
   "outputs": [],
   "source": []
  },
  {
   "cell_type": "code",
   "execution_count": 38,
   "metadata": {},
   "outputs": [],
   "source": [
    "target_matching_train = target_matching[target_matching['year'] <= 2017]"
   ]
  },
  {
   "cell_type": "code",
   "execution_count": 20,
   "metadata": {},
   "outputs": [],
   "source": [
    "with open('train/fires_df_before2015', 'wb') as file:\n",
    "    pickle.dump(fires_df_before2015, file)"
   ]
  },
  {
   "cell_type": "code",
   "execution_count": 18,
   "metadata": {},
   "outputs": [],
   "source": [
    "with open('train/target_matching_before2015.p', 'wb') as file:\n",
    "    pickle.dump(target_matching_before2015, file)"
   ]
  },
  {
   "cell_type": "code",
   "execution_count": null,
   "metadata": {},
   "outputs": [],
   "source": [
    "time1 = time.clock()\n",
    "for i, row in target_matching.iterrows():\n",
    "    if i%10000 == 0:\n",
    "        print('done with {} iterations'.format(i))\n",
    "        print(time.clock() - time1)\n",
    "    try:\n",
    "        #part a\n",
    "#         p1 = time.clock()\n",
    "        start = row['status_date']\n",
    "        address = row['address']\n",
    "        #part b\n",
    "#         p2 = time.clock()\n",
    "        \n",
    "        days = (start - start_date).days\n",
    "        after = fires_df.iloc[:target_date_index[days]]\n",
    "        before = fires_df.iloc[target_date_index[days]:]\n",
    "        \n",
    "        #part c\n",
    "#         p3 = time.clock()\n",
    "        \n",
    "        fires[i,0] = len(before[before['address'].apply(lambda x: address == x[:len(address)])])\n",
    "        fires[i,1] = len(after[after['address'].apply(lambda x: address == x[:len(address)])])\n",
    "#         last = time.clock()\n",
    "        \n",
    "#         a += p2 - p1\n",
    "#         b += p3 - p2\n",
    "#         c += last - p3\n",
    "    except:h\n",
    "        print(i)\n",
    "        print(sys.exc_info())\n",
    "        break"
   ]
  }
 ],
 "metadata": {
  "kernelspec": {
   "display_name": "Python 3",
   "language": "python",
   "name": "python3"
  },
  "language_info": {
   "codemirror_mode": {
    "name": "ipython",
    "version": 3
   },
   "file_extension": ".py",
   "mimetype": "text/x-python",
   "name": "python",
   "nbconvert_exporter": "python",
   "pygments_lexer": "ipython3",
   "version": "3.6.8"
  }
 },
 "nbformat": 4,
 "nbformat_minor": 2
}

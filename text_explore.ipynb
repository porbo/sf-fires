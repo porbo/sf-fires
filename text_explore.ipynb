{
 "cells": [
  {
   "cell_type": "code",
   "execution_count": 605,
   "metadata": {},
   "outputs": [],
   "source": [
    "from src.data_processing import data_processing, data_dropping\n",
    "import numpy as np\n",
    "import pandas as pd\n",
    "import pickle\n",
    "from sklearn.feature_extraction.text import CountVectorizer, TfidfVectorizer\n",
    "from sklearn.linear_model import LogisticRegression, Lasso, LinearRegression\n",
    "from sklearn.metrics import f1_score, roc_auc_score, roc_curve, make_scorer, accuracy_score, mean_squared_error\n",
    "from nltk.stem import WordNetLemmatizer as Lemmatizer\n",
    "from collections import Counter\n",
    "from sklearn.ensemble import GradientBoostingClassifier, GradientBoostingRegressor\n",
    "import re"
   ]
  },
  {
   "cell_type": "code",
   "execution_count": 494,
   "metadata": {},
   "outputs": [],
   "source": [
    "with open('data/predictor.p', 'rb') as file:\n",
    "    predictor = pickle.load(file)\n",
    "with open('data/target.p', 'rb') as file:\n",
    "    target = pickle.load(file)"
   ]
  },
  {
   "cell_type": "code",
   "execution_count": 602,
   "metadata": {},
   "outputs": [],
   "source": [
    "def hasnumber(s):\n",
    "    return bool(re.search(r'\\d', s))"
   ]
  },
  {
   "cell_type": "code",
   "execution_count": 495,
   "metadata": {},
   "outputs": [],
   "source": [
    "pred = data_processing(data_dropping(predictor))"
   ]
  },
  {
   "cell_type": "code",
   "execution_count": 496,
   "metadata": {},
   "outputs": [],
   "source": [
    "pred = pred[['existing_stories', 'existing_use', 'proposed_use', 'description']]"
   ]
  },
  {
   "cell_type": "code",
   "execution_count": 14,
   "metadata": {},
   "outputs": [
    {
     "name": "stderr",
     "output_type": "stream",
     "text": [
      "C:\\Users\\pengj\\Anaconda2\\lib\\site-packages\\ipykernel_launcher.py:1: SettingWithCopyWarning: \n",
      "A value is trying to be set on a copy of a slice from a DataFrame.\n",
      "Try using .loc[row_indexer,col_indexer] = value instead\n",
      "\n",
      "See the caveats in the documentation: http://pandas.pydata.org/pandas-docs/stable/indexing.html#indexing-view-versus-copy\n",
      "  \"\"\"Entry point for launching an IPython kernel.\n"
     ]
    }
   ],
   "source": [
    "pred['has_existing_stories'] = (pred['existing_stories'].fillna(0) > 0).astype(int)"
   ]
  },
  {
   "cell_type": "code",
   "execution_count": 497,
   "metadata": {},
   "outputs": [],
   "source": [
    "pred[['existing_use', 'proposed_use', 'description']] = pred[['existing_use', 'proposed_use', 'description']].fillna('-').astype(str)"
   ]
  },
  {
   "cell_type": "code",
   "execution_count": 498,
   "metadata": {},
   "outputs": [],
   "source": [
    "pred['text'] = pred[['existing_use', 'proposed_use', 'description']].apply(lambda x: ' '.join(x), axis = 1)"
   ]
  },
  {
   "cell_type": "code",
   "execution_count": 581,
   "metadata": {},
   "outputs": [
    {
     "data": {
      "text/plain": [
       "29.0"
      ]
     },
     "execution_count": 581,
     "metadata": {},
     "output_type": "execute_result"
    }
   ],
   "source": [
    "float('29')"
   ]
  },
  {
   "cell_type": "code",
   "execution_count": 474,
   "metadata": {},
   "outputs": [],
   "source": [
    "with open('data/pred_trimmed.p', 'wb') as file:\n",
    "    pickle.dump(pred, file)"
   ]
  },
  {
   "cell_type": "code",
   "execution_count": 603,
   "metadata": {},
   "outputs": [],
   "source": [
    "text = pred['text'].values"
   ]
  },
  {
   "cell_type": "code",
   "execution_count": 623,
   "metadata": {},
   "outputs": [],
   "source": [
    "y_full = (target['fire_rate_after'] > target['fire_rate_before']).astype(int).values"
   ]
  },
  {
   "cell_type": "code",
   "execution_count": 582,
   "metadata": {},
   "outputs": [],
   "source": [
    "def int_able(str):\n",
    "    try:\n",
    "        float(str)\n",
    "    except:\n",
    "        return False\n",
    "    return True"
   ]
  },
  {
   "cell_type": "code",
   "execution_count": 606,
   "metadata": {},
   "outputs": [],
   "source": [
    "text = np.array([' '.join([Lemmatizer.lemmatize('n', word.lower()) for word in doc.split() if not hasnumber(word)]) for doc in text])"
   ]
  },
  {
   "cell_type": "code",
   "execution_count": 607,
   "metadata": {},
   "outputs": [],
   "source": [
    "text_lemmatized = text"
   ]
  },
  {
   "cell_type": "code",
   "execution_count": 587,
   "metadata": {},
   "outputs": [
    {
     "ename": "NameError",
     "evalue": "name 'isnum' is not defined",
     "output_type": "error",
     "traceback": [
      "\u001b[1;31m---------------------------------------------------------------------------\u001b[0m",
      "\u001b[1;31mNameError\u001b[0m                                 Traceback (most recent call last)",
      "\u001b[1;32m<ipython-input-587-3a3a7ab787ae>\u001b[0m in \u001b[0;36m<module>\u001b[1;34m\u001b[0m\n\u001b[1;32m----> 1\u001b[1;33m \u001b[0misnum\u001b[0m\u001b[1;33m\u001b[0m\u001b[1;33m\u001b[0m\u001b[0m\n\u001b[0m",
      "\u001b[1;31mNameError\u001b[0m: name 'isnum' is not defined"
     ]
    }
   ],
   "source": []
  },
  {
   "cell_type": "code",
   "execution_count": 643,
   "metadata": {},
   "outputs": [],
   "source": [
    "n = 50000\n",
    "sample_idx = np.random.choice(len(pred), n)"
   ]
  },
  {
   "cell_type": "code",
   "execution_count": 644,
   "metadata": {},
   "outputs": [],
   "source": [
    "X = text[sample_idx]\n",
    "y = y_full[sample_idx]"
   ]
  },
  {
   "cell_type": "code",
   "execution_count": 439,
   "metadata": {},
   "outputs": [],
   "source": [
    "train = np.full(n, False)\n",
    "train_idx = np.random.choice(n, int(.75*n), replace = False)\n",
    "for idx in train_idx:\n",
    "    train[idx] = True\n",
    "test = ~train"
   ]
  },
  {
   "cell_type": "code",
   "execution_count": null,
   "metadata": {},
   "outputs": [],
   "source": []
  },
  {
   "cell_type": "code",
   "execution_count": 563,
   "metadata": {},
   "outputs": [],
   "source": [
    "vec = TfidfVectorizer(stop_words = 'english')"
   ]
  },
  {
   "cell_type": "code",
   "execution_count": null,
   "metadata": {},
   "outputs": [],
   "source": []
  },
  {
   "cell_type": "code",
   "execution_count": 645,
   "metadata": {},
   "outputs": [],
   "source": [
    "X = vec.fit_transform(X)"
   ]
  },
  {
   "cell_type": "code",
   "execution_count": 625,
   "metadata": {},
   "outputs": [],
   "source": [
    "model = LogisticRegression()"
   ]
  },
  {
   "cell_type": "code",
   "execution_count": 646,
   "metadata": {},
   "outputs": [
    {
     "data": {
      "text/plain": [
       "LogisticRegression(C=1.0, class_weight=None, dual=False, fit_intercept=True,\n",
       "          intercept_scaling=1, max_iter=100, multi_class='ovr', n_jobs=1,\n",
       "          penalty='l2', random_state=None, solver='liblinear', tol=0.0001,\n",
       "          verbose=0, warm_start=False)"
      ]
     },
     "execution_count": 646,
     "metadata": {},
     "output_type": "execute_result"
    }
   ],
   "source": [
    "model.fit(X[train],y[train])"
   ]
  },
  {
   "cell_type": "code",
   "execution_count": 647,
   "metadata": {},
   "outputs": [
    {
     "data": {
      "text/plain": [
       "0.8596"
      ]
     },
     "execution_count": 647,
     "metadata": {},
     "output_type": "execute_result"
    }
   ],
   "source": [
    "model.score(X[test], y[test])"
   ]
  },
  {
   "cell_type": "code",
   "execution_count": 648,
   "metadata": {},
   "outputs": [
    {
     "data": {
      "text/plain": [
       "0.8290845748248943"
      ]
     },
     "execution_count": 648,
     "metadata": {},
     "output_type": "execute_result"
    }
   ],
   "source": [
    "roc_auc_score(y[test], model.predict_proba(X[test])[:,1])"
   ]
  },
  {
   "cell_type": "code",
   "execution_count": 619,
   "metadata": {},
   "outputs": [
    {
     "data": {
      "text/plain": [
       "'spinkler'"
      ]
     },
     "execution_count": 619,
     "metadata": {},
     "output_type": "execute_result"
    }
   ],
   "source": [
    "vocab_idx[13029]"
   ]
  },
  {
   "cell_type": "code",
   "execution_count": 615,
   "metadata": {},
   "outputs": [
    {
     "data": {
      "text/plain": [
       "array([    0, 10394, 10395, ...,  6553, 13029, 12942], dtype=int64)"
      ]
     },
     "execution_count": 615,
     "metadata": {},
     "output_type": "execute_result"
    }
   ],
   "source": [
    "model.feature_importances_.argsort()"
   ]
  },
  {
   "cell_type": "code",
   "execution_count": 616,
   "metadata": {},
   "outputs": [
    {
     "ename": "AttributeError",
     "evalue": "'GradientBoostingRegressor' object has no attribute 'predict_proba'",
     "output_type": "error",
     "traceback": [
      "\u001b[1;31m---------------------------------------------------------------------------\u001b[0m",
      "\u001b[1;31mAttributeError\u001b[0m                            Traceback (most recent call last)",
      "\u001b[1;32m<ipython-input-616-6c82e16870db>\u001b[0m in \u001b[0;36m<module>\u001b[1;34m\u001b[0m\n\u001b[1;32m----> 1\u001b[1;33m \u001b[0mroc_auc_score\u001b[0m\u001b[1;33m(\u001b[0m\u001b[0my\u001b[0m\u001b[1;33m[\u001b[0m\u001b[0mtest\u001b[0m\u001b[1;33m]\u001b[0m\u001b[1;33m,\u001b[0m \u001b[0mmodel\u001b[0m\u001b[1;33m.\u001b[0m\u001b[0mpredict_proba\u001b[0m\u001b[1;33m(\u001b[0m\u001b[0mX\u001b[0m\u001b[1;33m[\u001b[0m\u001b[0mtest\u001b[0m\u001b[1;33m]\u001b[0m\u001b[1;33m)\u001b[0m\u001b[1;33m[\u001b[0m\u001b[1;33m:\u001b[0m\u001b[1;33m,\u001b[0m\u001b[1;36m1\u001b[0m\u001b[1;33m]\u001b[0m\u001b[1;33m)\u001b[0m\u001b[1;33m\u001b[0m\u001b[1;33m\u001b[0m\u001b[0m\n\u001b[0m",
      "\u001b[1;31mAttributeError\u001b[0m: 'GradientBoostingRegressor' object has no attribute 'predict_proba'"
     ]
    }
   ],
   "source": [
    "roc_auc_score(y[test], model.predict_proba(X[test])[:,1])"
   ]
  },
  {
   "cell_type": "code",
   "execution_count": 506,
   "metadata": {},
   "outputs": [],
   "source": [
    "def f1(y_test, y_pred_prob, threshold):\n",
    "    y_pred = (y_pred_prob > threshold).astype(int)\n",
    "    return f1_score(y_test, y_pred)"
   ]
  },
  {
   "cell_type": "code",
   "execution_count": 507,
   "metadata": {},
   "outputs": [
    {
     "name": "stderr",
     "output_type": "stream",
     "text": [
      "C:\\Users\\pengj\\Anaconda2\\lib\\site-packages\\sklearn\\metrics\\classification.py:1135: UndefinedMetricWarning: F-score is ill-defined and being set to 0.0 due to no predicted samples.\n",
      "  'precision', 'predicted', average, warn_for)\n"
     ]
    }
   ],
   "source": [
    "current_best = 0\n",
    "best_i = 0\n",
    "for i in range(1000):\n",
    "    f = f1(y[test], model.predict_proba(X[test])[:,1], i/1000)\n",
    "    if f > current_best:\n",
    "        current_best = f\n",
    "        best_i = i\n",
    "    "
   ]
  },
  {
   "cell_type": "code",
   "execution_count": 508,
   "metadata": {},
   "outputs": [
    {
     "data": {
      "text/plain": [
       "0.43174820390010266"
      ]
     },
     "execution_count": 508,
     "metadata": {},
     "output_type": "execute_result"
    }
   ],
   "source": [
    "f1(y[test], model.predict_proba(X[test])[:,1], best_i/1000)"
   ]
  },
  {
   "cell_type": "code",
   "execution_count": 509,
   "metadata": {},
   "outputs": [],
   "source": [
    "vec.vocabulary_;"
   ]
  },
  {
   "cell_type": "code",
   "execution_count": 649,
   "metadata": {},
   "outputs": [],
   "source": [
    "vocab_idx = {v: k for k, v in vec.vocabulary_.items()}"
   ]
  },
  {
   "cell_type": "code",
   "execution_count": 650,
   "metadata": {},
   "outputs": [],
   "source": [
    "important_words = {}"
   ]
  },
  {
   "cell_type": "code",
   "execution_count": 651,
   "metadata": {},
   "outputs": [],
   "source": [
    "for i, coef in enumerate(model.coef_[0]):\n",
    "    if coef > 0:\n",
    "        important_words[vocab_idx[i]] = coef"
   ]
  },
  {
   "cell_type": "code",
   "execution_count": 652,
   "metadata": {},
   "outputs": [],
   "source": [
    "c = Counter(important_words)"
   ]
  },
  {
   "cell_type": "code",
   "execution_count": 658,
   "metadata": {},
   "outputs": [
    {
     "data": {
      "text/plain": [
       "array([-1.62033885])"
      ]
     },
     "execution_count": 658,
     "metadata": {},
     "output_type": "execute_result"
    }
   ],
   "source": [
    "model.intercept_"
   ]
  },
  {
   "cell_type": "code",
   "execution_count": 654,
   "metadata": {},
   "outputs": [
    {
     "data": {
      "text/plain": [
       "[('maher', 4.135960726805149),\n",
       " ('apt', 3.2571120896300103),\n",
       " ('traps', 2.529927485747275),\n",
       " ('ordinance', 2.5289745837396778),\n",
       " ('speaker', 2.271684087536629),\n",
       " ('egress', 2.095901081992529),\n",
       " ('ref', 2.062200879369185),\n",
       " ('mep', 2.044750346887388),\n",
       " ('exh', 2.032254322337327),\n",
       " ('damage', 2.0148565235091977),\n",
       " ('modification', 2.0038582407406706),\n",
       " ('deferred', 2.001935973309281),\n",
       " ('evacuation', 1.9743179655078928),\n",
       " ('reroof', 1.9415711275179024),\n",
       " ('fiberglass', 1.813847341062362),\n",
       " ('occupied', 1.7999530375657145),\n",
       " ('community', 1.7843406873482186),\n",
       " ('maintain', 1.7662882423747037),\n",
       " ('sleeping', 1.7617268526760557),\n",
       " ('priority', 1.7045146788140375)]"
      ]
     },
     "execution_count": 654,
     "metadata": {},
     "output_type": "execute_result"
    }
   ],
   "source": [
    "top_increase_2"
   ]
  },
  {
   "cell_type": "code",
   "execution_count": 657,
   "metadata": {},
   "outputs": [
    {
     "data": {
      "text/plain": [
       "[('maher', 4.318628315280367),\n",
       " ('traps', 3.0604753135583738),\n",
       " ('apt', 3.058518434175814),\n",
       " ('lobby', 2.4061483916803845),\n",
       " ('mep', 2.38283168170562),\n",
       " ('obtain', 2.229604895446058),\n",
       " ('evacuation', 2.2222105640105316),\n",
       " ('ti', 2.197495985636132),\n",
       " ('hotel', 2.0324178132562194),\n",
       " ('hospital', 2.0289820845986837),\n",
       " ('altered', 1.9812141589177144),\n",
       " ('renovation', 1.959745311045452),\n",
       " ('pendent', 1.9546521857902992),\n",
       " ('occupied', 1.9066297627457913),\n",
       " ('enclosure', 1.9050113978818335),\n",
       " ('common', 1.8730919602814982),\n",
       " ('ordinance', 1.868788989507143),\n",
       " ('assembly', 1.799356956704036),\n",
       " ('fan', 1.7938171125364328),\n",
       " ('efficiency', 1.7586792977760355)]"
      ]
     },
     "execution_count": 657,
     "metadata": {},
     "output_type": "execute_result"
    }
   ],
   "source": [
    "top_increase_1"
   ]
  },
  {
   "cell_type": "code",
   "execution_count": 515,
   "metadata": {},
   "outputs": [
    {
     "data": {
      "text/plain": [
       "[('cti', 8.568333416450177),\n",
       " ('105', 4.519257013734376),\n",
       " ('coutnertop', 4.345246902269198),\n",
       " ('oti', 3.3374166992264547),\n",
       " ('drinking', 3.262354378056696),\n",
       " ('screens', 3.087552444844313),\n",
       " ('density', 2.990672860273146),\n",
       " ('addressable', 2.9302821775207684),\n",
       " ('winder', 2.9110521360872648),\n",
       " ('fluorescent', 2.8903632859330872)]"
      ]
     },
     "execution_count": 515,
     "metadata": {},
     "output_type": "execute_result"
    }
   ],
   "source": [
    "top10_decrease_2"
   ]
  },
  {
   "cell_type": "code",
   "execution_count": 381,
   "metadata": {},
   "outputs": [],
   "source": [
    "important_words_4 = important_words"
   ]
  },
  {
   "cell_type": "code",
   "execution_count": 392,
   "metadata": {},
   "outputs": [],
   "source": [
    "important_words;"
   ]
  },
  {
   "cell_type": "code",
   "execution_count": 415,
   "metadata": {},
   "outputs": [],
   "source": [
    "top10_2 = c.most_common(10)"
   ]
  },
  {
   "cell_type": "code",
   "execution_count": 401,
   "metadata": {},
   "outputs": [],
   "source": [
    "top10_1 = c.most_common(10)"
   ]
  },
  {
   "cell_type": "code",
   "execution_count": 433,
   "metadata": {},
   "outputs": [
    {
     "data": {
      "text/plain": [
       "[('traps', 9.066135535601088),\n",
       " ('exh', 5.236541100818746),\n",
       " ('265', 4.812601390528742),\n",
       " ('maher', 4.730539830504769),\n",
       " ('tags', 4.297665411723898),\n",
       " ('geotech', 4.20148706744233),\n",
       " ('901', 4.104538395668117),\n",
       " ('9884', 4.058352578295828),\n",
       " ('notifier', 3.8099096402798533),\n",
       " ('144', 3.680255661760993)]"
      ]
     },
     "execution_count": 433,
     "metadata": {},
     "output_type": "execute_result"
    }
   ],
   "source": [
    "top10_3"
   ]
  },
  {
   "cell_type": "code",
   "execution_count": 416,
   "metadata": {},
   "outputs": [
    {
     "data": {
      "text/plain": [
       "[('traps', 7.005050918380217),\n",
       " ('maher', 4.692009685187687),\n",
       " ('forms', 3.636798151040242),\n",
       " ('ref', 3.2956199551363703),\n",
       " ('evacuation', 2.8559641655760863),\n",
       " ('apt', 2.763896991448432),\n",
       " ('assmbly', 2.759404362814315),\n",
       " ('3884sf', 2.631019912856813),\n",
       " ('suite', 2.5307707835609),\n",
       " ('unit', 2.5235550187500255)]"
      ]
     },
     "execution_count": 416,
     "metadata": {},
     "output_type": "execute_result"
    }
   ],
   "source": [
    "top10_2"
   ]
  },
  {
   "cell_type": "code",
   "execution_count": 417,
   "metadata": {},
   "outputs": [
    {
     "data": {
      "text/plain": [
       "[('traps', 6.190488019758687),\n",
       " ('maher', 4.546629916650752),\n",
       " ('uprights', 3.1050460402905613),\n",
       " ('daycare', 2.8857078892696255),\n",
       " ('sounders', 2.7342078862780332),\n",
       " ('altered', 2.622869978271953),\n",
       " ('evacuation', 2.6174622302659016),\n",
       " ('washer', 2.552283019923069),\n",
       " ('arch', 2.4326521113122124),\n",
       " ('chap', 2.366688547050922)]"
      ]
     },
     "execution_count": 417,
     "metadata": {},
     "output_type": "execute_result"
    }
   ],
   "source": [
    "top10_1"
   ]
  },
  {
   "cell_type": "code",
   "execution_count": 641,
   "metadata": {},
   "outputs": [
    {
     "name": "stdout",
     "output_type": "stream",
     "text": [
      "NEW EXTERIOR GATE; MAHER N/A\n",
      "AS-BUILT REVISION PLANS ARE REQ'D TO INCLUDE THE 2-WAY ELEVATOR LANDING COMMUNICATION SYSTEM UNDER THE FIRE ALARM ADDENDUM 7 PLANS PRIOR TO FINALIZING THIS PERMIT.  (REF #200711309386-S7) COMPLY W/ MAHER ORDINANCE IS NOT REQUIRED.  \n",
      "ERECT AN ILLUMINATE SINGLE FACED SIGN ON EXISTING CANOPY. N/A MAHER ORDINANCE\n",
      "COMPLIANCE WITH SOFT STORY SEISMIC RETROFIT-2012 IEBC APPENDIX A-4. MAHER ORDINANCE N/A.\n",
      "NORTH HALL MDF ROOM 114 - (1) SMOKE DET.  (7) DUCT SMOKE DET  (8) CONTROL RELAYS  (8) DUAL MONITOR MODULES  (2) SPEAKER/STROBES  (1) BATTERY ENCLOSURES W/(2) BATTERIES. N/A MAHER ORDINANCE\n",
      "BASEMENT 4  3  2  1  LEVEL 1  2  5 THROUGH 30 AND ROOF.  132 EVACUATION SIGNS MAHER - NOT REQ'D\n",
      "14TH FLOOR T.I. INCLUDE BUILD OUT OF AN EXISTING VACANT SPACE. SELECTIVE DEMOITION OF NON-STRUCTURE NON-RATED ELEMENTS  NEW NON STRUCTURAL PARTITIONS  NEW CEILING AND LIGHTING  NEW FINISHES  NEW DOORS  FRAMS AND HARDWARE. MAHER N/A. MEP/sprinklers separate permit.\n",
      "INTERIOR SOFT DEMO IN ADVANCE OF FUTURE TI PER AB017 MAHER - NOT REQ'D\n",
      "GROUND FLR: RELOCATE INTERIOR LOBBY DOOR TO MEDICAL CANNABIS.  NO OTHER WOOK. MAHER - NOT REQ'D\n",
      "NON STRUCTURAL DEMOLITION TO RETAIL SPACE. STOREFRONT TO REMAIN. COMBINE 2 RETAIL SPACES INTO 1 SPACE.  N/A MAHER ORD. #155-13\n",
      "B-3 FLORS: INTERIOR MECH & PLUM SYSTEM UPGRADE . REF PA# 2015 0323 1540  MAHER - NOT REQ'D\n",
      "UMBRELLA PERMIT: COMPLIANCE WITH HIGH RISE SPRINKLER ORD. #377-93.  MAHER - NOT REQ'D\n"
     ]
    }
   ],
   "source": [
    "\n",
    "for i, row in pred[pred['description'].apply(lambda x: ' MAHER ' in x)].reset_index().iterrows():\n",
    "    print(row['description'])\n",
    "    if i > 10:\n",
    "        break"
   ]
  },
  {
   "cell_type": "code",
   "execution_count": null,
   "metadata": {},
   "outputs": [],
   "source": []
  }
 ],
 "metadata": {
  "kernelspec": {
   "display_name": "Python 3",
   "language": "python",
   "name": "python3"
  },
  "language_info": {
   "codemirror_mode": {
    "name": "ipython",
    "version": 3
   },
   "file_extension": ".py",
   "mimetype": "text/x-python",
   "name": "python",
   "nbconvert_exporter": "python",
   "pygments_lexer": "ipython3",
   "version": "3.6.8"
  }
 },
 "nbformat": 4,
 "nbformat_minor": 2
}

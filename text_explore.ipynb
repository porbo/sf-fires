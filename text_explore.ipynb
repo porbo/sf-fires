{
 "cells": [
  {
   "cell_type": "code",
   "execution_count": 215,
   "metadata": {},
   "outputs": [],
   "source": [
    "from src.data_processing import data_processing, data_dropping\n",
    "import numpy as np\n",
    "import pandas as pd\n",
    "import pickle\n",
    "from sklearn.feature_extraction.text import CountVectorizer, TfidfVectorizer\n",
    "from sklearn.linear_model import LogisticRegression\n",
    "from sklearn.metrics import f1_score, roc_auc_score, roc_curve, make_scorer, accuracy_score\n",
    "from nltk.stem import WordNetLemmatizer as Lemmatizer"
   ]
  },
  {
   "cell_type": "code",
   "execution_count": 5,
   "metadata": {},
   "outputs": [],
   "source": [
    "with open('data/predictor.p', 'rb') as file:\n",
    "    predictor = pickle.load(file)\n",
    "with open('data/target.p', 'rb') as file:\n",
    "    target = pickle.load(file)"
   ]
  },
  {
   "cell_type": "code",
   "execution_count": 8,
   "metadata": {},
   "outputs": [],
   "source": [
    "pred = data_processing(data_dropping(predictor))"
   ]
  },
  {
   "cell_type": "code",
   "execution_count": 13,
   "metadata": {},
   "outputs": [],
   "source": [
    "pred = pred[['existing_stories', 'existing_use', 'proposed_use', 'description']]"
   ]
  },
  {
   "cell_type": "code",
   "execution_count": 14,
   "metadata": {},
   "outputs": [
    {
     "name": "stderr",
     "output_type": "stream",
     "text": [
      "C:\\Users\\pengj\\Anaconda2\\lib\\site-packages\\ipykernel_launcher.py:1: SettingWithCopyWarning: \n",
      "A value is trying to be set on a copy of a slice from a DataFrame.\n",
      "Try using .loc[row_indexer,col_indexer] = value instead\n",
      "\n",
      "See the caveats in the documentation: http://pandas.pydata.org/pandas-docs/stable/indexing.html#indexing-view-versus-copy\n",
      "  \"\"\"Entry point for launching an IPython kernel.\n"
     ]
    }
   ],
   "source": [
    "pred['has_existing_stories'] = (pred['existing_stories'].fillna(0) > 0).astype(int)"
   ]
  },
  {
   "cell_type": "code",
   "execution_count": 20,
   "metadata": {},
   "outputs": [],
   "source": [
    "pred[['existing_use', 'proposed_use', 'description']] = pred[['existing_use', 'proposed_use', 'description']].fillna('').astype(str)"
   ]
  },
  {
   "cell_type": "code",
   "execution_count": 28,
   "metadata": {},
   "outputs": [
    {
     "name": "stderr",
     "output_type": "stream",
     "text": [
      "C:\\Users\\pengj\\Anaconda2\\lib\\site-packages\\ipykernel_launcher.py:1: SettingWithCopyWarning: \n",
      "A value is trying to be set on a copy of a slice from a DataFrame.\n",
      "Try using .loc[row_indexer,col_indexer] = value instead\n",
      "\n",
      "See the caveats in the documentation: http://pandas.pydata.org/pandas-docs/stable/indexing.html#indexing-view-versus-copy\n",
      "  \"\"\"Entry point for launching an IPython kernel.\n"
     ]
    }
   ],
   "source": [
    "pred['text'] = pred[['existing_use', 'proposed_use', 'description']].apply(lambda x: ' '.join(x), axis = 1)"
   ]
  },
  {
   "cell_type": "code",
   "execution_count": 32,
   "metadata": {},
   "outputs": [
    {
     "data": {
      "text/plain": [
       "Index(['fires_before', 'fires_after', 'date', 'fire_rate_after',\n",
       "       'fire_rate_before'],\n",
       "      dtype='object')"
      ]
     },
     "execution_count": 32,
     "metadata": {},
     "output_type": "execute_result"
    }
   ],
   "source": [
    "target.columns"
   ]
  },
  {
   "cell_type": "code",
   "execution_count": 30,
   "metadata": {},
   "outputs": [],
   "source": [
    "with open('data/pred_trimmed.p', 'wb') as file:\n",
    "    pickle.dump(pred, file)"
   ]
  },
  {
   "cell_type": "code",
   "execution_count": 221,
   "metadata": {},
   "outputs": [],
   "source": [
    "text = pred['text'].values"
   ]
  },
  {
   "cell_type": "code",
   "execution_count": 192,
   "metadata": {},
   "outputs": [],
   "source": [
    "y_full = (target['fire_rate_after'] > target['fire_rate_before']).astype(int).values"
   ]
  },
  {
   "cell_type": "code",
   "execution_count": 229,
   "metadata": {},
   "outputs": [],
   "source": [
    "text = np.array([' '.join([Lemmatizer.lemmatize('n', word.lower()) for word in doc.split()]) for doc in text])"
   ]
  },
  {
   "cell_type": "code",
   "execution_count": null,
   "metadata": {},
   "outputs": [],
   "source": []
  },
  {
   "cell_type": "code",
   "execution_count": 231,
   "metadata": {},
   "outputs": [
    {
     "data": {
      "text/plain": [
       "array(['2 family dwelling 2 family dwelling renew for 200112175408 & 200105290149 for final inspection nan',\n",
       "       'apartment apartment correct violation in report of physical inspection application no 3r-3956 dec 18,2003 nan',\n",
       "       'apartment apartment correct violation in report of physical inspection application no 3r-3956 dec 18,2003 nan',\n",
       "       ...,\n",
       "       '2 family dwelling 2 family dwelling to obtain a final inspection for work approved under previus permit 201402289608 & 201704123763. all work is complete.',\n",
       "       '2 family dwelling 2 family dwelling to obtain a final inspection for work approved under previus permit 201402289608 & 201704123763. all work is complete.',\n",
       "       '1 family dwelling 1 family dwelling drywall replacement in 3 bedroom and 1 hallway. also add insulation a needed'],\n",
       "      dtype='<U347')"
      ]
     },
     "execution_count": 231,
     "metadata": {},
     "output_type": "execute_result"
    }
   ],
   "source": [
    "text"
   ]
  },
  {
   "cell_type": "code",
   "execution_count": 182,
   "metadata": {},
   "outputs": [],
   "source": [
    "?"
   ]
  },
  {
   "cell_type": "code",
   "execution_count": 233,
   "metadata": {},
   "outputs": [],
   "source": [
    "X = text[sample_idx]\n",
    "y = y_full[sample_idx]"
   ]
  },
  {
   "cell_type": "code",
   "execution_count": 234,
   "metadata": {},
   "outputs": [],
   "source": [
    "# train = np.full(n, False)\n",
    "# train_idx = np.random.choice(n, int(.75*n), replace = False)\n",
    "# for idx in train_idx:\n",
    "#     train[idx] = True\n",
    "# test = ~train"
   ]
  },
  {
   "cell_type": "code",
   "execution_count": null,
   "metadata": {},
   "outputs": [],
   "source": []
  },
  {
   "cell_type": "code",
   "execution_count": 235,
   "metadata": {},
   "outputs": [],
   "source": [
    "vec = TfidfVectorizer(stop_words = 'english')"
   ]
  },
  {
   "cell_type": "code",
   "execution_count": null,
   "metadata": {},
   "outputs": [],
   "source": []
  },
  {
   "cell_type": "code",
   "execution_count": 236,
   "metadata": {},
   "outputs": [],
   "source": [
    "X = vec.fit_transform(X)"
   ]
  },
  {
   "cell_type": "code",
   "execution_count": 197,
   "metadata": {},
   "outputs": [],
   "source": [
    "model = LogisticRegression(penalty = 'l1')"
   ]
  },
  {
   "cell_type": "code",
   "execution_count": 198,
   "metadata": {},
   "outputs": [
    {
     "data": {
      "text/plain": [
       "LogisticRegression(C=1.0, class_weight=None, dual=False, fit_intercept=True,\n",
       "          intercept_scaling=1, max_iter=100, multi_class='ovr', n_jobs=1,\n",
       "          penalty='l1', random_state=None, solver='liblinear', tol=0.0001,\n",
       "          verbose=0, warm_start=False)"
      ]
     },
     "execution_count": 198,
     "metadata": {},
     "output_type": "execute_result"
    }
   ],
   "source": [
    "model.fit(X[train],y[train])"
   ]
  },
  {
   "cell_type": "code",
   "execution_count": 199,
   "metadata": {},
   "outputs": [
    {
     "data": {
      "text/plain": [
       "0.866"
      ]
     },
     "execution_count": 199,
     "metadata": {},
     "output_type": "execute_result"
    }
   ],
   "source": [
    "model.score(X[test], y[test])"
   ]
  },
  {
   "cell_type": "code",
   "execution_count": 200,
   "metadata": {},
   "outputs": [
    {
     "data": {
      "text/plain": [
       "0.7829562411776567"
      ]
     },
     "execution_count": 200,
     "metadata": {},
     "output_type": "execute_result"
    }
   ],
   "source": [
    "roc_auc_score(y[test], model.predict_proba(X[test])[:,1])"
   ]
  },
  {
   "cell_type": "code",
   "execution_count": 201,
   "metadata": {},
   "outputs": [],
   "source": [
    "def f1(y_test, y_pred_prob, threshold):\n",
    "    y_pred = (y_pred_prob > threshold).astype(int)\n",
    "    return f1_score(y_test, y_pred)"
   ]
  },
  {
   "cell_type": "code",
   "execution_count": 202,
   "metadata": {},
   "outputs": [
    {
     "name": "stderr",
     "output_type": "stream",
     "text": [
      "C:\\Users\\pengj\\Anaconda2\\lib\\site-packages\\sklearn\\metrics\\classification.py:1135: UndefinedMetricWarning: F-score is ill-defined and being set to 0.0 due to no predicted samples.\n",
      "  'precision', 'predicted', average, warn_for)\n"
     ]
    }
   ],
   "source": [
    "current_best = 0\n",
    "best_i = 0\n",
    "for i in range(1000):\n",
    "    f = f1(y[test], model.predict_proba(X[test])[:,1], i/1000)\n",
    "    if f > current_best:\n",
    "        current_best = f\n",
    "        best_i = i\n",
    "    "
   ]
  },
  {
   "cell_type": "code",
   "execution_count": 203,
   "metadata": {},
   "outputs": [
    {
     "data": {
      "text/plain": [
       "array([[0., 0., 0., ..., 0., 0., 0.]])"
      ]
     },
     "execution_count": 203,
     "metadata": {},
     "output_type": "execute_result"
    }
   ],
   "source": [
    "model.coef_"
   ]
  },
  {
   "cell_type": "code",
   "execution_count": 204,
   "metadata": {},
   "outputs": [
    {
     "data": {
      "text/plain": [
       "0.46418338108882523"
      ]
     },
     "execution_count": 204,
     "metadata": {},
     "output_type": "execute_result"
    }
   ],
   "source": [
    "f1(y[test], model.predict_proba(X[test])[:,1], best_i/1000)"
   ]
  },
  {
   "cell_type": "code",
   "execution_count": 205,
   "metadata": {},
   "outputs": [],
   "source": [
    "vec.vocabulary_;"
   ]
  },
  {
   "cell_type": "code",
   "execution_count": 206,
   "metadata": {},
   "outputs": [],
   "source": [
    "vocab_idx = {v: k for k, v in vec.vocabulary_.items()}"
   ]
  },
  {
   "cell_type": "code",
   "execution_count": 207,
   "metadata": {},
   "outputs": [],
   "source": [
    "important_words = {}"
   ]
  },
  {
   "cell_type": "code",
   "execution_count": 208,
   "metadata": {},
   "outputs": [],
   "source": [
    "for i, coef in enumerate(model.coef_[0]):\n",
    "    if coef > 0:\n",
    "        important_words[vocab_idx[i]] = coef"
   ]
  },
  {
   "cell_type": "code",
   "execution_count": 211,
   "metadata": {},
   "outputs": [
    {
     "data": {
      "text/plain": [
       "{'155': 3.1035912135296058,\n",
       " '8th': 0.5653977168600285,\n",
       " 'add': 1.3189284794110383,\n",
       " 'apt': 4.463987721335684,\n",
       " 'bathroom': 0.777527495715587,\n",
       " 'ceiling': 2.4061458459505816,\n",
       " 'closet': 0.20693889987998118,\n",
       " 'common': 0.2572805212635152,\n",
       " 'drawings': 1.3067239246464866,\n",
       " 'emergency': 0.33072454563355463,\n",
       " 'faced': 1.1433798692146413,\n",
       " 'finishes': 3.6574502626583008,\n",
       " 'fixtures': 0.5123874065592303,\n",
       " 'flr': 0.1328012300893051,\n",
       " 'include': 1.1432906942533385,\n",
       " 'interior': 1.2391021529517692,\n",
       " 'kitchen': 0.8159770238906059,\n",
       " 'like': 1.3433312672515416,\n",
       " 'lobby': 2.0466061790820875,\n",
       " 'maher': 3.945060653556438,\n",
       " 'mep': 2.2384294066448924,\n",
       " 'motel': 0.29619647229672375,\n",
       " 'non': 0.19537872737189085,\n",
       " 'obtain': 1.7005488112504799,\n",
       " 'office': 0.5801552681465681,\n",
       " 'ordinance': 0.20006497201715248,\n",
       " 'pa': 0.7260685567025665,\n",
       " 'pendents': 1.0717323310678821,\n",
       " 'permit': 0.28628134263447824,\n",
       " 'recreation': 1.8134444342215625,\n",
       " 'ref': 2.7855127302584353,\n",
       " 'remodeling': 1.9617031284357653,\n",
       " 'req': 0.5991403398981968,\n",
       " 'shall': 1.8589607210409524,\n",
       " 'sheetrock': 1.029022504380752,\n",
       " 'single': 1.575380336023262,\n",
       " 'speaker': 2.9911883148337317,\n",
       " 'sprinklers': 1.958461477595795,\n",
       " 'suite': 0.006314377018972587,\n",
       " 'switches': 0.4308594344202206,\n",
       " 'tenant': 0.1265642498212014,\n",
       " 'ti': 0.4285517571667264,\n",
       " 'tourist': 0.2566604109510527}"
      ]
     },
     "execution_count": 211,
     "metadata": {},
     "output_type": "execute_result"
    }
   ],
   "source": [
    "important_words"
   ]
  },
  {
   "cell_type": "code",
   "execution_count": null,
   "metadata": {},
   "outputs": [],
   "source": []
  }
 ],
 "metadata": {
  "kernelspec": {
   "display_name": "Python 3",
   "language": "python",
   "name": "python3"
  },
  "language_info": {
   "codemirror_mode": {
    "name": "ipython",
    "version": 3
   },
   "file_extension": ".py",
   "mimetype": "text/x-python",
   "name": "python",
   "nbconvert_exporter": "python",
   "pygments_lexer": "ipython3",
   "version": "3.6.8"
  }
 },
 "nbformat": 4,
 "nbformat_minor": 2
}

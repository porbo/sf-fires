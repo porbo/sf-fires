{
 "cells": [
  {
   "cell_type": "code",
   "execution_count": 1,
   "metadata": {},
   "outputs": [],
   "source": [
    "from src.data_processing import data_processing, data_dropping\n",
    "import numpy as np\n",
    "import pandas as pd\n",
    "import pickle\n",
    "from sklearn.feature_extraction.text import CountVectorizer, TfidfVectorizer\n",
    "from sklearn.linear_model import LogisticRegression, Lasso, LinearRegression\n",
    "from sklearn.metrics import f1_score, roc_auc_score, roc_curve, make_scorer, accuracy_score, mean_squared_error\n",
    "from nltk.stem import WordNetLemmatizer as Lemmatizer\n",
    "from collections import Counter\n",
    "from sklearn.ensemble import GradientBoostingClassifier, GradientBoostingRegressor\n",
    "import re"
   ]
  },
  {
   "cell_type": "code",
   "execution_count": 3,
   "metadata": {},
   "outputs": [],
   "source": [
    "with open('data/text.p', 'rb') as file:\n",
    "    text = pickle.load(file)\n",
    "with open('data/target.p', 'rb') as file:\n",
    "    target = pickle.load(file)"
   ]
  },
  {
   "cell_type": "code",
   "execution_count": 4,
   "metadata": {},
   "outputs": [],
   "source": [
    "def hasnumber(s):\n",
    "    return bool(re.search(r'\\d', s))"
   ]
  },
  {
   "cell_type": "code",
   "execution_count": 495,
   "metadata": {},
   "outputs": [],
   "source": [
    "pred = data_processing(data_dropping(predictor))"
   ]
  },
  {
   "cell_type": "code",
   "execution_count": 496,
   "metadata": {},
   "outputs": [],
   "source": [
    "pred = pred[['existing_stories', 'existing_use', 'proposed_use', 'description']]"
   ]
  },
  {
   "cell_type": "code",
   "execution_count": 14,
   "metadata": {},
   "outputs": [
    {
     "name": "stderr",
     "output_type": "stream",
     "text": [
      "C:\\Users\\pengj\\Anaconda2\\lib\\site-packages\\ipykernel_launcher.py:1: SettingWithCopyWarning: \n",
      "A value is trying to be set on a copy of a slice from a DataFrame.\n",
      "Try using .loc[row_indexer,col_indexer] = value instead\n",
      "\n",
      "See the caveats in the documentation: http://pandas.pydata.org/pandas-docs/stable/indexing.html#indexing-view-versus-copy\n",
      "  \"\"\"Entry point for launching an IPython kernel.\n"
     ]
    }
   ],
   "source": [
    "pred['has_existing_stories'] = (pred['existing_stories'].fillna(0) > 0).astype(int)"
   ]
  },
  {
   "cell_type": "code",
   "execution_count": 497,
   "metadata": {},
   "outputs": [],
   "source": [
    "pred[['existing_use', 'proposed_use', 'description']] = pred[['existing_use', 'proposed_use', 'description']].fillna('-').astype(str)"
   ]
  },
  {
   "cell_type": "code",
   "execution_count": 498,
   "metadata": {},
   "outputs": [],
   "source": [
    "pred['text'] = pred[['existing_use', 'proposed_use', 'description']].apply(lambda x: ' '.join(x), axis = 1)"
   ]
  },
  {
   "cell_type": "code",
   "execution_count": 581,
   "metadata": {},
   "outputs": [
    {
     "data": {
      "text/plain": [
       "29.0"
      ]
     },
     "execution_count": 581,
     "metadata": {},
     "output_type": "execute_result"
    }
   ],
   "source": [
    "float('29')"
   ]
  },
  {
   "cell_type": "code",
   "execution_count": 474,
   "metadata": {},
   "outputs": [],
   "source": [
    "with open('data/pred_trimmed.p', 'wb') as file:\n",
    "    pickle.dump(pred, file)"
   ]
  },
  {
   "cell_type": "code",
   "execution_count": 603,
   "metadata": {},
   "outputs": [],
   "source": [
    "text = pred['text'].values"
   ]
  },
  {
   "cell_type": "code",
   "execution_count": 8,
   "metadata": {},
   "outputs": [],
   "source": [
    "with open('data/text.p', 'wb') as file:\n",
    "    pickle.dump(text, file)"
   ]
  },
  {
   "cell_type": "code",
   "execution_count": 5,
   "metadata": {},
   "outputs": [],
   "source": [
    "y_full = (target['fire_rate_after'] < target['fire_rate_before']).astype(int).values"
   ]
  },
  {
   "cell_type": "code",
   "execution_count": 6,
   "metadata": {},
   "outputs": [],
   "source": [
    "def int_able(str):\n",
    "    try:\n",
    "        float(str)\n",
    "    except:\n",
    "        return False\n",
    "    return True"
   ]
  },
  {
   "cell_type": "code",
   "execution_count": 7,
   "metadata": {},
   "outputs": [],
   "source": [
    "text = np.array([' '.join([Lemmatizer.lemmatize('n', word.lower()) for word in doc.split() if not hasnumber(word)]) for doc in text])"
   ]
  },
  {
   "cell_type": "code",
   "execution_count": 607,
   "metadata": {},
   "outputs": [],
   "source": [
    "text_lemmatized = text"
   ]
  },
  {
   "cell_type": "code",
   "execution_count": null,
   "metadata": {},
   "outputs": [],
   "source": []
  },
  {
   "cell_type": "code",
   "execution_count": 11,
   "metadata": {},
   "outputs": [],
   "source": [
    "n = 50000\n",
    "sample_idx = np.random.choice(len(text), n)"
   ]
  },
  {
   "cell_type": "code",
   "execution_count": 12,
   "metadata": {},
   "outputs": [],
   "source": [
    "X = text[sample_idx]\n",
    "y = y_full[sample_idx]"
   ]
  },
  {
   "cell_type": "code",
   "execution_count": 13,
   "metadata": {},
   "outputs": [],
   "source": [
    "train = np.full(n, False)\n",
    "train_idx = np.random.choice(n, int(.75*n), replace = False)\n",
    "for idx in train_idx:\n",
    "    train[idx] = True\n",
    "test = ~train"
   ]
  },
  {
   "cell_type": "code",
   "execution_count": null,
   "metadata": {},
   "outputs": [],
   "source": []
  },
  {
   "cell_type": "code",
   "execution_count": 14,
   "metadata": {},
   "outputs": [],
   "source": [
    "vec = TfidfVectorizer(stop_words = 'english')"
   ]
  },
  {
   "cell_type": "code",
   "execution_count": null,
   "metadata": {},
   "outputs": [],
   "source": []
  },
  {
   "cell_type": "code",
   "execution_count": 15,
   "metadata": {},
   "outputs": [],
   "source": [
    "X = vec.fit_transform(X)"
   ]
  },
  {
   "cell_type": "code",
   "execution_count": 16,
   "metadata": {},
   "outputs": [],
   "source": [
    "model = LogisticRegression()"
   ]
  },
  {
   "cell_type": "code",
   "execution_count": 17,
   "metadata": {},
   "outputs": [
    {
     "data": {
      "text/plain": [
       "LogisticRegression(C=1.0, class_weight=None, dual=False, fit_intercept=True,\n",
       "          intercept_scaling=1, max_iter=100, multi_class='ovr', n_jobs=1,\n",
       "          penalty='l2', random_state=None, solver='liblinear', tol=0.0001,\n",
       "          verbose=0, warm_start=False)"
      ]
     },
     "execution_count": 17,
     "metadata": {},
     "output_type": "execute_result"
    }
   ],
   "source": [
    "model.fit(X[train],y[train])"
   ]
  },
  {
   "cell_type": "code",
   "execution_count": 18,
   "metadata": {},
   "outputs": [
    {
     "data": {
      "text/plain": [
       "0.90536"
      ]
     },
     "execution_count": 18,
     "metadata": {},
     "output_type": "execute_result"
    }
   ],
   "source": [
    "model.score(X[test], y[test])"
   ]
  },
  {
   "cell_type": "code",
   "execution_count": 19,
   "metadata": {},
   "outputs": [
    {
     "data": {
      "text/plain": [
       "0.7904914071327358"
      ]
     },
     "execution_count": 19,
     "metadata": {},
     "output_type": "execute_result"
    }
   ],
   "source": [
    "roc_auc_score(y[test], model.predict_proba(X[test])[:,1])"
   ]
  },
  {
   "cell_type": "code",
   "execution_count": 619,
   "metadata": {},
   "outputs": [
    {
     "data": {
      "text/plain": [
       "'spinkler'"
      ]
     },
     "execution_count": 619,
     "metadata": {},
     "output_type": "execute_result"
    }
   ],
   "source": [
    "vocab_idx[13029]"
   ]
  },
  {
   "cell_type": "code",
   "execution_count": null,
   "metadata": {},
   "outputs": [],
   "source": []
  },
  {
   "cell_type": "code",
   "execution_count": 21,
   "metadata": {},
   "outputs": [
    {
     "data": {
      "text/plain": [
       "0.8557572106736399"
      ]
     },
     "execution_count": 21,
     "metadata": {},
     "output_type": "execute_result"
    }
   ],
   "source": [
    "roc_auc_score(y[train], model.predict_proba(X[train])[:,1])"
   ]
  },
  {
   "cell_type": "code",
   "execution_count": 22,
   "metadata": {},
   "outputs": [],
   "source": [
    "def f1(y_test, y_pred_prob, threshold):\n",
    "    y_pred = (y_pred_prob > threshold).astype(int)\n",
    "    return f1_score(y_test, y_pred)"
   ]
  },
  {
   "cell_type": "code",
   "execution_count": 23,
   "metadata": {},
   "outputs": [
    {
     "name": "stderr",
     "output_type": "stream",
     "text": [
      "C:\\Users\\pengj\\Anaconda2\\lib\\site-packages\\sklearn\\metrics\\classification.py:1135: UndefinedMetricWarning: F-score is ill-defined and being set to 0.0 due to no predicted samples.\n",
      "  'precision', 'predicted', average, warn_for)\n"
     ]
    }
   ],
   "source": [
    "current_best = 0\n",
    "best_i = 0\n",
    "for i in range(1000):\n",
    "    f = f1(y[test], model.predict_proba(X[test])[:,1], i/1000)\n",
    "    if f > current_best:\n",
    "        current_best = f\n",
    "        best_i = i\n",
    "    "
   ]
  },
  {
   "cell_type": "code",
   "execution_count": 24,
   "metadata": {},
   "outputs": [
    {
     "data": {
      "text/plain": [
       "0.4188846641318124"
      ]
     },
     "execution_count": 24,
     "metadata": {},
     "output_type": "execute_result"
    }
   ],
   "source": [
    "f1(y[test], model.predict_proba(X[test])[:,1], best_i/1000)"
   ]
  },
  {
   "cell_type": "code",
   "execution_count": 509,
   "metadata": {},
   "outputs": [],
   "source": [
    "vec.vocabulary_;"
   ]
  },
  {
   "cell_type": "code",
   "execution_count": 668,
   "metadata": {},
   "outputs": [],
   "source": [
    "vocab_idx = {v: k for k, v in vec.vocabulary_.items()}"
   ]
  },
  {
   "cell_type": "code",
   "execution_count": 669,
   "metadata": {},
   "outputs": [],
   "source": [
    "important_words = {}"
   ]
  },
  {
   "cell_type": "code",
   "execution_count": 670,
   "metadata": {},
   "outputs": [],
   "source": [
    "for i, coef in enumerate(model.coef_[0]):\n",
    "    if coef > 0:\n",
    "        important_words[vocab_idx[i]] = coef"
   ]
  },
  {
   "cell_type": "code",
   "execution_count": 671,
   "metadata": {},
   "outputs": [],
   "source": [
    "c = Counter(important_words)"
   ]
  },
  {
   "cell_type": "code",
   "execution_count": 674,
   "metadata": {},
   "outputs": [
    {
     "data": {
      "text/plain": [
       "[('office', 2.1176786110528223),\n",
       " ('dated', 1.7203072459482143),\n",
       " ('carpet', 1.7090974645931714),\n",
       " ('life', 1.6938419110066842),\n",
       " ('corridor', 1.6058811823357426),\n",
       " ('bart', 1.5648986145276225),\n",
       " ('nan', 1.5508567940393705),\n",
       " ('flourescent', 1.4961213796842556),\n",
       " ('sale', 1.4889250957687659),\n",
       " ('school', 1.4739605915228873),\n",
       " ('el', 1.4540642121475595),\n",
       " ('fargo', 1.4456208844155471),\n",
       " ('nursing', 1.4384922900103676),\n",
       " ('speakers', 1.429166610456676),\n",
       " ('oti', 1.4217271795798598),\n",
       " ('finishesnan', 1.414208629330898),\n",
       " ('center', 1.3983382701292237),\n",
       " ('hotel', 1.380807279973869),\n",
       " ('energy', 1.3464640793875338),\n",
       " ('motion', 1.3119829231303992)]"
      ]
     },
     "execution_count": 674,
     "metadata": {},
     "output_type": "execute_result"
    }
   ],
   "source": [
    "top_decrease_1"
   ]
  },
  {
   "cell_type": "code",
   "execution_count": 681,
   "metadata": {},
   "outputs": [
    {
     "data": {
      "text/plain": [
       "[('maher', 4.135960726805149),\n",
       " ('apt', 3.2571120896300103),\n",
       " ('traps', 2.529927485747275),\n",
       " ('ordinance', 2.5289745837396778),\n",
       " ('speaker', 2.271684087536629),\n",
       " ('egress', 2.095901081992529),\n",
       " ('ref', 2.062200879369185),\n",
       " ('mep', 2.044750346887388),\n",
       " ('exh', 2.032254322337327),\n",
       " ('damage', 2.0148565235091977),\n",
       " ('modification', 2.0038582407406706),\n",
       " ('deferred', 2.001935973309281),\n",
       " ('evacuation', 1.9743179655078928),\n",
       " ('reroof', 1.9415711275179024),\n",
       " ('fiberglass', 1.813847341062362),\n",
       " ('occupied', 1.7999530375657145),\n",
       " ('community', 1.7843406873482186),\n",
       " ('maintain', 1.7662882423747037),\n",
       " ('sleeping', 1.7617268526760557),\n",
       " ('priority', 1.7045146788140375)]"
      ]
     },
     "execution_count": 681,
     "metadata": {},
     "output_type": "execute_result"
    }
   ],
   "source": [
    "top_increase_2"
   ]
  },
  {
   "cell_type": "code",
   "execution_count": null,
   "metadata": {},
   "outputs": [],
   "source": []
  },
  {
   "cell_type": "code",
   "execution_count": 679,
   "metadata": {},
   "outputs": [
    {
     "data": {
      "text/plain": [
       "['maher', 'traps', 'apt', 'mep', 'evacuation', 'occupied', 'ordinance']"
      ]
     },
     "execution_count": 679,
     "metadata": {},
     "output_type": "execute_result"
    }
   ],
   "source": [
    "w1 = [x[0] for x in top_increase_1]\n",
    "w2 = [x[0] for x in top_increase_2]\n",
    "[w for w in w1 if w in w2]"
   ]
  },
  {
   "cell_type": "code",
   "execution_count": 381,
   "metadata": {},
   "outputs": [],
   "source": [
    "important_words_4 = important_words"
   ]
  },
  {
   "cell_type": "code",
   "execution_count": 392,
   "metadata": {},
   "outputs": [],
   "source": [
    "important_words;"
   ]
  },
  {
   "cell_type": "code",
   "execution_count": 415,
   "metadata": {},
   "outputs": [],
   "source": [
    "top10_2 = c.most_common(10)"
   ]
  },
  {
   "cell_type": "code",
   "execution_count": 401,
   "metadata": {},
   "outputs": [],
   "source": [
    "top10_1 = c.most_common(10)"
   ]
  },
  {
   "cell_type": "code",
   "execution_count": 433,
   "metadata": {},
   "outputs": [
    {
     "data": {
      "text/plain": [
       "[('traps', 9.066135535601088),\n",
       " ('exh', 5.236541100818746),\n",
       " ('265', 4.812601390528742),\n",
       " ('maher', 4.730539830504769),\n",
       " ('tags', 4.297665411723898),\n",
       " ('geotech', 4.20148706744233),\n",
       " ('901', 4.104538395668117),\n",
       " ('9884', 4.058352578295828),\n",
       " ('notifier', 3.8099096402798533),\n",
       " ('144', 3.680255661760993)]"
      ]
     },
     "execution_count": 433,
     "metadata": {},
     "output_type": "execute_result"
    }
   ],
   "source": [
    "top10_3"
   ]
  },
  {
   "cell_type": "code",
   "execution_count": 416,
   "metadata": {},
   "outputs": [
    {
     "data": {
      "text/plain": [
       "[('traps', 7.005050918380217),\n",
       " ('maher', 4.692009685187687),\n",
       " ('forms', 3.636798151040242),\n",
       " ('ref', 3.2956199551363703),\n",
       " ('evacuation', 2.8559641655760863),\n",
       " ('apt', 2.763896991448432),\n",
       " ('assmbly', 2.759404362814315),\n",
       " ('3884sf', 2.631019912856813),\n",
       " ('suite', 2.5307707835609),\n",
       " ('unit', 2.5235550187500255)]"
      ]
     },
     "execution_count": 416,
     "metadata": {},
     "output_type": "execute_result"
    }
   ],
   "source": [
    "top10_2"
   ]
  },
  {
   "cell_type": "code",
   "execution_count": 417,
   "metadata": {},
   "outputs": [
    {
     "data": {
      "text/plain": [
       "[('traps', 6.190488019758687),\n",
       " ('maher', 4.546629916650752),\n",
       " ('uprights', 3.1050460402905613),\n",
       " ('daycare', 2.8857078892696255),\n",
       " ('sounders', 2.7342078862780332),\n",
       " ('altered', 2.622869978271953),\n",
       " ('evacuation', 2.6174622302659016),\n",
       " ('washer', 2.552283019923069),\n",
       " ('arch', 2.4326521113122124),\n",
       " ('chap', 2.366688547050922)]"
      ]
     },
     "execution_count": 417,
     "metadata": {},
     "output_type": "execute_result"
    }
   ],
   "source": [
    "top10_1"
   ]
  },
  {
   "cell_type": "code",
   "execution_count": 675,
   "metadata": {},
   "outputs": [
    {
     "name": "stdout",
     "output_type": "stream",
     "text": [
      "INSTALL (N) FIRE ALARM SYSTEM FOR WELLS FARGO BANK                                                                                                                                                                                                                                                                                                                                                                                                                                                                                                                                                                                                                                                                                                                                                                         \n",
      "RELOCATE 4 FIRE SPRINKLERS FOR MODIFIED CEILING IN WELLS FARGO IN STORE. DEMO 1 FIRE SPINKLERnan\n",
      "FIRE SPRINKLER TENANT IMPROVEMENTS  TO 10TH FLR. WELLS FARGO EMPLOYEE RELATION. 59 RELOC. 19 ADDS TOTAL 78 HEADS.nan\n",
      "LIFE SAFETY SYTEM MODIFICATIONS AT 525 MARKET ST  5TH FLOOR-WELLS FARGO BANK-RELOCATE (2) STROBE LIGnan\n",
      "LIFE SAFETY SYSTEM MODIFICATIONS@ 343 SANSOME ST 4TH/FL WELLS FARGO BANK PER DRAWINGS -INSTALLINGnan\n",
      "FIRE SPRINKLER TENANT IMPROVEMENT TO 12TH FLR (WELLS FARGO SECURITES) RELOCATE (3) HEADSnannan\n",
      "ADDITION OF SPEAKER/STROBES FOR THE ENTIRE FLOOR UNDER THE WELLS FARGO REMODEL  ALSO ADDED ARE 9 SMOKE DETECTORS AND 2 DUCT DETECTORS FOR A FIRE/SMOKE DAMPER AND RETURN AIR UNITnan\n",
      "REMODEL (E) WELLS FARGO BANK TELLER LINE. NEW CASEWORK.\n",
      "RELOCATE 3 FIRE SPINKLER AT WELLS FARGO BANK\n",
      "(WELL FARGO TENANT) INTERIOR SOFT DEMO. REF PA# 2006/12/08/9497. NO CONSTRUCTION WORK UNDER THIS APPLICATION.\n",
      "T/I UPGRADE FIRE SPRINKLER SYSTEM ON 11TH FLOOR OF 343 SANSOME ST. (WELLS FARGO BANK OFFICE) 20 RELOCATE HEAD  3 ADDS AND 5 DELETES  23 TOTAL HEADnan\n",
      "PROVIDE CONCRETE PAD FOR WELLS FARGO ATM IN PLANTER  PROVIDE LIGHT POLE AT ATM  RE-STRIPE (E) HANDICAP SPACE TO VAN ACCESSIBLE  RE-CONFIGURE RESTROOMS ACCESSORIES & FIXTURES\n"
     ]
    }
   ],
   "source": [
    "\n",
    "for i, row in pred[pred['description'].apply(lambda x: ' FARGO ' in x)].reset_index().iterrows():\n",
    "    print(row['description'])\n",
    "    if i > 10:\n",
    "        break"
   ]
  },
  {
   "cell_type": "code",
   "execution_count": 26,
   "metadata": {},
   "outputs": [],
   "source": [
    "from sklearn.decomposition import NMF"
   ]
  },
  {
   "cell_type": "code",
   "execution_count": 27,
   "metadata": {},
   "outputs": [],
   "source": [
    "factor = NMF(n_components = 5)"
   ]
  },
  {
   "cell_type": "code",
   "execution_count": 30,
   "metadata": {},
   "outputs": [
    {
     "data": {
      "text/plain": [
       "array([[0.00207972, 0.02929167, 0.00565341, 0.        , 0.        ],\n",
       "       [0.03912327, 0.00177047, 0.00607075, 0.        , 0.00021564],\n",
       "       [0.00344825, 0.04062147, 0.00125605, 0.        , 0.        ],\n",
       "       ...,\n",
       "       [0.00091693, 0.00162768, 0.03989695, 0.01737722, 0.        ],\n",
       "       [0.03748331, 0.00639017, 0.0062129 , 0.        , 0.        ],\n",
       "       [0.00676866, 0.03529878, 0.0029804 , 0.01484486, 0.        ]])"
      ]
     },
     "execution_count": 30,
     "metadata": {},
     "output_type": "execute_result"
    }
   ],
   "source": [
    "factor.fit_transform(X)"
   ]
  },
  {
   "cell_type": "code",
   "execution_count": 35,
   "metadata": {},
   "outputs": [
    {
     "data": {
      "text/plain": [
       "(5, 15641)"
      ]
     },
     "execution_count": 35,
     "metadata": {},
     "output_type": "execute_result"
    }
   ],
   "source": [
    "factor.components_.shape"
   ]
  },
  {
   "cell_type": "code",
   "execution_count": null,
   "metadata": {},
   "outputs": [],
   "source": []
  },
  {
   "cell_type": "code",
   "execution_count": null,
   "metadata": {},
   "outputs": [],
   "source": []
  }
 ],
 "metadata": {
  "kernelspec": {
   "display_name": "Python 3",
   "language": "python",
   "name": "python3"
  },
  "language_info": {
   "codemirror_mode": {
    "name": "ipython",
    "version": 3
   },
   "file_extension": ".py",
   "mimetype": "text/x-python",
   "name": "python",
   "nbconvert_exporter": "python",
   "pygments_lexer": "ipython3",
   "version": "3.6.8"
  }
 },
 "nbformat": 4,
 "nbformat_minor": 2
}
